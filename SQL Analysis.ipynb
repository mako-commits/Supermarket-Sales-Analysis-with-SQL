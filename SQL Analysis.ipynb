{
    "metadata": {
        "kernelspec": {
            "name": "SQL",
            "display_name": "SQL",
            "language": "sql"
        },
        "language_info": {
            "name": "sql",
            "version": ""
        }
    },
    "nbformat_minor": 2,
    "nbformat": 4,
    "cells": [
        {
            "cell_type": "code",
            "source": [
                "SELECT TOP (10) *\r\n",
                "FROM [Projects].[dbo].[SupermarketSales]"
            ],
            "metadata": {
                "azdata_cell_guid": "df23da57-a2d6-4657-bad4-5046262eb161",
                "language": "sql"
            },
            "outputs": [
                {
                    "output_type": "display_data",
                    "data": {
                        "text/html": "(10 rows affected)"
                    },
                    "metadata": {}
                },
                {
                    "output_type": "display_data",
                    "data": {
                        "text/html": "Total execution time: 00:00:00.009"
                    },
                    "metadata": {}
                },
                {
                    "output_type": "execute_result",
                    "metadata": {},
                    "execution_count": 2,
                    "data": {
                        "application/vnd.dataresource+json": {
                            "schema": {
                                "fields": [
                                    {
                                        "name": "Invoice_ID"
                                    },
                                    {
                                        "name": "Branch"
                                    },
                                    {
                                        "name": "City"
                                    },
                                    {
                                        "name": "Customer_type"
                                    },
                                    {
                                        "name": "Gender"
                                    },
                                    {
                                        "name": "Product_line"
                                    },
                                    {
                                        "name": "Unit_price"
                                    },
                                    {
                                        "name": "Quantity"
                                    },
                                    {
                                        "name": "Tax_5"
                                    },
                                    {
                                        "name": "Total"
                                    },
                                    {
                                        "name": "Date"
                                    },
                                    {
                                        "name": "Time"
                                    },
                                    {
                                        "name": "Payment"
                                    },
                                    {
                                        "name": "cogs"
                                    },
                                    {
                                        "name": "gross_margin_percentage"
                                    },
                                    {
                                        "name": "gross_income"
                                    },
                                    {
                                        "name": "Rating"
                                    }
                                ]
                            },
                            "data": [
                                {
                                    "Invoice_ID": "750-67-8428",
                                    "Branch": "A",
                                    "City": "Yangon",
                                    "Customer_type": "Member",
                                    "Gender": "Female",
                                    "Product_line": "Health and beauty",
                                    "Unit_price": "74.69000244140625",
                                    "Quantity": "7",
                                    "Tax_5": "26.14150047302246",
                                    "Total": "548.9714965820312",
                                    "Date": "2019-01-05",
                                    "Time": "13:08:00",
                                    "Payment": "Ewallet",
                                    "cogs": "522.8300170898438",
                                    "gross_margin_percentage": "4.761904716491699",
                                    "gross_income": "26.14150047302246",
                                    "Rating": "9.100000381469727"
                                },
                                {
                                    "Invoice_ID": "226-31-3081",
                                    "Branch": "C",
                                    "City": "Naypyitaw",
                                    "Customer_type": "Normal",
                                    "Gender": "Female",
                                    "Product_line": "Electronic accessories",
                                    "Unit_price": "15.279999732971191",
                                    "Quantity": "5",
                                    "Tax_5": "3.819999933242798",
                                    "Total": "80.22000122070312",
                                    "Date": "2019-03-08",
                                    "Time": "10:29:00",
                                    "Payment": "Cash",
                                    "cogs": "76.4000015258789",
                                    "gross_margin_percentage": "4.761904716491699",
                                    "gross_income": "3.819999933242798",
                                    "Rating": "9.600000381469727"
                                },
                                {
                                    "Invoice_ID": "631-41-3108",
                                    "Branch": "A",
                                    "City": "Yangon",
                                    "Customer_type": "Normal",
                                    "Gender": "Male",
                                    "Product_line": "Home and lifestyle",
                                    "Unit_price": "46.33000183105469",
                                    "Quantity": "7",
                                    "Tax_5": "16.215499877929688",
                                    "Total": "340.5255126953125",
                                    "Date": "2019-03-03",
                                    "Time": "13:23:00",
                                    "Payment": "Credit card",
                                    "cogs": "324.30999755859375",
                                    "gross_margin_percentage": "4.761904716491699",
                                    "gross_income": "16.215499877929688",
                                    "Rating": "7.400000095367432"
                                },
                                {
                                    "Invoice_ID": "123-19-1176",
                                    "Branch": "A",
                                    "City": "Yangon",
                                    "Customer_type": "Member",
                                    "Gender": "Male",
                                    "Product_line": "Health and beauty",
                                    "Unit_price": "58.220001220703125",
                                    "Quantity": "8",
                                    "Tax_5": "23.288000106811523",
                                    "Total": "489.0480041503906",
                                    "Date": "2019-01-27",
                                    "Time": "20:33:00",
                                    "Payment": "Ewallet",
                                    "cogs": "465.760009765625",
                                    "gross_margin_percentage": "4.761904716491699",
                                    "gross_income": "23.288000106811523",
                                    "Rating": "8.399999618530273"
                                },
                                {
                                    "Invoice_ID": "373-73-7910",
                                    "Branch": "A",
                                    "City": "Yangon",
                                    "Customer_type": "Normal",
                                    "Gender": "Male",
                                    "Product_line": "Sports and travel",
                                    "Unit_price": "86.30999755859375",
                                    "Quantity": "7",
                                    "Tax_5": "30.208499908447266",
                                    "Total": "634.3784790039062",
                                    "Date": "2019-02-08",
                                    "Time": "10:37:00",
                                    "Payment": "Ewallet",
                                    "cogs": "604.1699829101562",
                                    "gross_margin_percentage": "4.761904716491699",
                                    "gross_income": "30.208499908447266",
                                    "Rating": "5.300000190734863"
                                },
                                {
                                    "Invoice_ID": "699-14-3026",
                                    "Branch": "C",
                                    "City": "Naypyitaw",
                                    "Customer_type": "Normal",
                                    "Gender": "Male",
                                    "Product_line": "Electronic accessories",
                                    "Unit_price": "85.38999938964844",
                                    "Quantity": "7",
                                    "Tax_5": "29.886499404907227",
                                    "Total": "627.6165161132812",
                                    "Date": "2019-03-25",
                                    "Time": "18:30:00",
                                    "Payment": "Ewallet",
                                    "cogs": "597.72998046875",
                                    "gross_margin_percentage": "4.761904716491699",
                                    "gross_income": "29.886499404907227",
                                    "Rating": "4.099999904632568"
                                },
                                {
                                    "Invoice_ID": "355-53-5943",
                                    "Branch": "A",
                                    "City": "Yangon",
                                    "Customer_type": "Member",
                                    "Gender": "Female",
                                    "Product_line": "Electronic accessories",
                                    "Unit_price": "68.83999633789062",
                                    "Quantity": "6",
                                    "Tax_5": "20.652000427246094",
                                    "Total": "433.6919860839844",
                                    "Date": "2019-02-25",
                                    "Time": "14:36:00",
                                    "Payment": "Ewallet",
                                    "cogs": "413.0400085449219",
                                    "gross_margin_percentage": "4.761904716491699",
                                    "gross_income": "20.652000427246094",
                                    "Rating": "5.800000190734863"
                                },
                                {
                                    "Invoice_ID": "315-22-5665",
                                    "Branch": "C",
                                    "City": "Naypyitaw",
                                    "Customer_type": "Normal",
                                    "Gender": "Female",
                                    "Product_line": "Home and lifestyle",
                                    "Unit_price": "73.55999755859375",
                                    "Quantity": "10",
                                    "Tax_5": "36.779998779296875",
                                    "Total": "772.3800048828125",
                                    "Date": "2019-02-24",
                                    "Time": "11:38:00",
                                    "Payment": "Ewallet",
                                    "cogs": "735.5999755859375",
                                    "gross_margin_percentage": "4.761904716491699",
                                    "gross_income": "36.779998779296875",
                                    "Rating": "8"
                                },
                                {
                                    "Invoice_ID": "665-32-9167",
                                    "Branch": "A",
                                    "City": "Yangon",
                                    "Customer_type": "Member",
                                    "Gender": "Female",
                                    "Product_line": "Health and beauty",
                                    "Unit_price": "36.2599983215332",
                                    "Quantity": "2",
                                    "Tax_5": "3.625999927520752",
                                    "Total": "76.14600372314453",
                                    "Date": "2019-01-10",
                                    "Time": "17:15:00",
                                    "Payment": "Credit card",
                                    "cogs": "72.5199966430664",
                                    "gross_margin_percentage": "4.761904716491699",
                                    "gross_income": "3.625999927520752",
                                    "Rating": "7.199999809265137"
                                },
                                {
                                    "Invoice_ID": "692-92-5582",
                                    "Branch": "B",
                                    "City": "Mandalay",
                                    "Customer_type": "Member",
                                    "Gender": "Female",
                                    "Product_line": "Food and beverages",
                                    "Unit_price": "54.84000015258789",
                                    "Quantity": "3",
                                    "Tax_5": "8.22599983215332",
                                    "Total": "172.74600219726562",
                                    "Date": "2019-02-20",
                                    "Time": "13:27:00",
                                    "Payment": "Credit card",
                                    "cogs": "164.52000427246094",
                                    "gross_margin_percentage": "4.761904716491699",
                                    "gross_income": "8.22599983215332",
                                    "Rating": "5.900000095367432"
                                }
                            ]
                        },
                        "text/html": [
                            "<table>",
                            "<tr><th>Invoice_ID</th><th>Branch</th><th>City</th><th>Customer_type</th><th>Gender</th><th>Product_line</th><th>Unit_price</th><th>Quantity</th><th>Tax_5</th><th>Total</th><th>Date</th><th>Time</th><th>Payment</th><th>cogs</th><th>gross_margin_percentage</th><th>gross_income</th><th>Rating</th></tr>",
                            "<tr><td>750-67-8428</td><td>A</td><td>Yangon</td><td>Member</td><td>Female</td><td>Health and beauty</td><td>74.69000244140625</td><td>7</td><td>26.14150047302246</td><td>548.9714965820312</td><td>2019-01-05</td><td>13:08:00</td><td>Ewallet</td><td>522.8300170898438</td><td>4.761904716491699</td><td>26.14150047302246</td><td>9.100000381469727</td></tr>",
                            "<tr><td>226-31-3081</td><td>C</td><td>Naypyitaw</td><td>Normal</td><td>Female</td><td>Electronic accessories</td><td>15.279999732971191</td><td>5</td><td>3.819999933242798</td><td>80.22000122070312</td><td>2019-03-08</td><td>10:29:00</td><td>Cash</td><td>76.4000015258789</td><td>4.761904716491699</td><td>3.819999933242798</td><td>9.600000381469727</td></tr>",
                            "<tr><td>631-41-3108</td><td>A</td><td>Yangon</td><td>Normal</td><td>Male</td><td>Home and lifestyle</td><td>46.33000183105469</td><td>7</td><td>16.215499877929688</td><td>340.5255126953125</td><td>2019-03-03</td><td>13:23:00</td><td>Credit card</td><td>324.30999755859375</td><td>4.761904716491699</td><td>16.215499877929688</td><td>7.400000095367432</td></tr>",
                            "<tr><td>123-19-1176</td><td>A</td><td>Yangon</td><td>Member</td><td>Male</td><td>Health and beauty</td><td>58.220001220703125</td><td>8</td><td>23.288000106811523</td><td>489.0480041503906</td><td>2019-01-27</td><td>20:33:00</td><td>Ewallet</td><td>465.760009765625</td><td>4.761904716491699</td><td>23.288000106811523</td><td>8.399999618530273</td></tr>",
                            "<tr><td>373-73-7910</td><td>A</td><td>Yangon</td><td>Normal</td><td>Male</td><td>Sports and travel</td><td>86.30999755859375</td><td>7</td><td>30.208499908447266</td><td>634.3784790039062</td><td>2019-02-08</td><td>10:37:00</td><td>Ewallet</td><td>604.1699829101562</td><td>4.761904716491699</td><td>30.208499908447266</td><td>5.300000190734863</td></tr>",
                            "<tr><td>699-14-3026</td><td>C</td><td>Naypyitaw</td><td>Normal</td><td>Male</td><td>Electronic accessories</td><td>85.38999938964844</td><td>7</td><td>29.886499404907227</td><td>627.6165161132812</td><td>2019-03-25</td><td>18:30:00</td><td>Ewallet</td><td>597.72998046875</td><td>4.761904716491699</td><td>29.886499404907227</td><td>4.099999904632568</td></tr>",
                            "<tr><td>355-53-5943</td><td>A</td><td>Yangon</td><td>Member</td><td>Female</td><td>Electronic accessories</td><td>68.83999633789062</td><td>6</td><td>20.652000427246094</td><td>433.6919860839844</td><td>2019-02-25</td><td>14:36:00</td><td>Ewallet</td><td>413.0400085449219</td><td>4.761904716491699</td><td>20.652000427246094</td><td>5.800000190734863</td></tr>",
                            "<tr><td>315-22-5665</td><td>C</td><td>Naypyitaw</td><td>Normal</td><td>Female</td><td>Home and lifestyle</td><td>73.55999755859375</td><td>10</td><td>36.779998779296875</td><td>772.3800048828125</td><td>2019-02-24</td><td>11:38:00</td><td>Ewallet</td><td>735.5999755859375</td><td>4.761904716491699</td><td>36.779998779296875</td><td>8</td></tr>",
                            "<tr><td>665-32-9167</td><td>A</td><td>Yangon</td><td>Member</td><td>Female</td><td>Health and beauty</td><td>36.2599983215332</td><td>2</td><td>3.625999927520752</td><td>76.14600372314453</td><td>2019-01-10</td><td>17:15:00</td><td>Credit card</td><td>72.5199966430664</td><td>4.761904716491699</td><td>3.625999927520752</td><td>7.199999809265137</td></tr>",
                            "<tr><td>692-92-5582</td><td>B</td><td>Mandalay</td><td>Member</td><td>Female</td><td>Food and beverages</td><td>54.84000015258789</td><td>3</td><td>8.22599983215332</td><td>172.74600219726562</td><td>2019-02-20</td><td>13:27:00</td><td>Credit card</td><td>164.52000427246094</td><td>4.761904716491699</td><td>8.22599983215332</td><td>5.900000095367432</td></tr>",
                            "</table>"
                        ]
                    }
                }
            ],
            "execution_count": 2
        },
        {
            "cell_type": "markdown",
            "source": [
                "### Checking for null values"
            ],
            "metadata": {
                "language": "sql",
                "azdata_cell_guid": "8cc513bb-a784-4b34-8333-97ed031f1b68"
            },
            "attachments": {}
        },
        {
            "cell_type": "code",
            "source": [
                "SELECT *\r\n",
                "FROM [Projects].[dbo].[SupermarketSales]\r\n",
                "WHERE [Invoice_ID] IS NULL\r\n",
                "   OR [Branch] IS NULL\r\n",
                "   OR [City] IS NULL\r\n",
                "   OR [Customer_type] IS NULL\r\n",
                "   OR [Gender] IS NULL\r\n",
                "   OR [Product_line] IS NULL\r\n",
                "   OR [Unit_price] IS NULL\r\n",
                "   OR [Quantity] IS NULL\r\n",
                "   OR [Tax_5] IS NULL\r\n",
                "   OR [Total] IS NULL\r\n",
                "   OR [Date] IS NULL\r\n",
                "   OR [Time] IS NULL\r\n",
                "   OR [Payment] IS NULL\r\n",
                "   OR [cogs] IS NULL\r\n",
                "   OR [gross_margin_percentage] IS NULL\r\n",
                "   OR [gross_income] IS NULL\r\n",
                "   OR [Rating] IS NULL;\r\n",
                ""
            ],
            "metadata": {
                "language": "sql",
                "azdata_cell_guid": "d624eb90-73e8-40f0-9462-b177d9cfd9ef"
            },
            "outputs": [
                {
                    "output_type": "display_data",
                    "data": {
                        "text/html": "(0 rows affected)"
                    },
                    "metadata": {}
                },
                {
                    "output_type": "display_data",
                    "data": {
                        "text/html": "Total execution time: 00:00:00.007"
                    },
                    "metadata": {}
                },
                {
                    "output_type": "execute_result",
                    "metadata": {},
                    "execution_count": 3,
                    "data": {
                        "application/vnd.dataresource+json": {
                            "schema": {
                                "fields": [
                                    {
                                        "name": "Invoice_ID"
                                    },
                                    {
                                        "name": "Branch"
                                    },
                                    {
                                        "name": "City"
                                    },
                                    {
                                        "name": "Customer_type"
                                    },
                                    {
                                        "name": "Gender"
                                    },
                                    {
                                        "name": "Product_line"
                                    },
                                    {
                                        "name": "Unit_price"
                                    },
                                    {
                                        "name": "Quantity"
                                    },
                                    {
                                        "name": "Tax_5"
                                    },
                                    {
                                        "name": "Total"
                                    },
                                    {
                                        "name": "Date"
                                    },
                                    {
                                        "name": "Time"
                                    },
                                    {
                                        "name": "Payment"
                                    },
                                    {
                                        "name": "cogs"
                                    },
                                    {
                                        "name": "gross_margin_percentage"
                                    },
                                    {
                                        "name": "gross_income"
                                    },
                                    {
                                        "name": "Rating"
                                    }
                                ]
                            },
                            "data": []
                        },
                        "text/html": [
                            "<table>",
                            "<tr><th>Invoice_ID</th><th>Branch</th><th>City</th><th>Customer_type</th><th>Gender</th><th>Product_line</th><th>Unit_price</th><th>Quantity</th><th>Tax_5</th><th>Total</th><th>Date</th><th>Time</th><th>Payment</th><th>cogs</th><th>gross_margin_percentage</th><th>gross_income</th><th>Rating</th></tr>",
                            "</table>"
                        ]
                    }
                }
            ],
            "execution_count": 3
        },
        {
            "cell_type": "markdown",
            "source": [
                "## <span style=\"color: var(--vscode-foreground);\">1. Which branch has the best results in the loyalty program?</span>"
            ],
            "metadata": {
                "azdata_cell_guid": "cb04ef1e-215e-4e56-b0d2-588ceeebcb31"
            },
            "attachments": {}
        },
        {
            "cell_type": "code",
            "source": [
                "-- Calculate the proportion of customers enrolled in the loyalty program for each branch.\r\n",
                "-- Compare these proportions to identify the branch with the highest participation in the loyalty program.\r\n",
                "\r\n",
                "SELECT Branch,\r\n",
                "    COUNT(CASE WHEN Customer_type = 'Member' THEN 1 END) AS Loyalty_Member,\r\n",
                "    COUNT(*) AS Total_Customers,\r\n",
                "    (COUNT(CASE WHEN Customer_type = 'Member' THEN 1 END) * 100.0 / COUNT(*)) AS Loyalty_Percentage\r\n",
                "FROM [Projects].[dbo].[SupermarketSales]\r\n",
                "GROUP BY Branch;"
            ],
            "metadata": {
                "azdata_cell_guid": "22292063-9a34-43ce-a24a-5028221761b1",
                "language": "sql"
            },
            "outputs": [
                {
                    "output_type": "display_data",
                    "data": {
                        "text/html": "Warning: Null value is eliminated by an aggregate or other SET operation."
                    },
                    "metadata": {}
                },
                {
                    "output_type": "display_data",
                    "data": {
                        "text/html": "(3 rows affected)"
                    },
                    "metadata": {}
                },
                {
                    "output_type": "display_data",
                    "data": {
                        "text/html": "Total execution time: 00:00:00.012"
                    },
                    "metadata": {}
                },
                {
                    "output_type": "execute_result",
                    "execution_count": 9,
                    "data": {
                        "application/vnd.dataresource+json": {
                            "schema": {
                                "fields": [
                                    {
                                        "name": "Branch"
                                    },
                                    {
                                        "name": "Loyalty_Member"
                                    },
                                    {
                                        "name": "Total_Customers"
                                    },
                                    {
                                        "name": "Loyalty_Percentage"
                                    }
                                ]
                            },
                            "data": [
                                {
                                    "Branch": "A",
                                    "Loyalty_Member": "167",
                                    "Total_Customers": "340",
                                    "Loyalty_Percentage": "49.117647058823"
                                },
                                {
                                    "Branch": "C",
                                    "Loyalty_Member": "169",
                                    "Total_Customers": "328",
                                    "Loyalty_Percentage": "51.524390243902"
                                },
                                {
                                    "Branch": "B",
                                    "Loyalty_Member": "165",
                                    "Total_Customers": "332",
                                    "Loyalty_Percentage": "49.698795180722"
                                }
                            ]
                        },
                        "text/html": "<table><tr><th>Branch</th><th>Loyalty_Member</th><th>Total_Customers</th><th>Loyalty_Percentage</th></tr><tr><td>A</td><td>167</td><td>340</td><td>49.117647058823</td></tr><tr><td>C</td><td>169</td><td>328</td><td>51.524390243902</td></tr><tr><td>B</td><td>165</td><td>332</td><td>49.698795180722</td></tr></table>"
                    },
                    "metadata": {}
                }
            ],
            "execution_count": 9
        },
        {
            "cell_type": "markdown",
            "source": [
                "### Branch C has the best results in the loyalty program"
            ],
            "metadata": {
                "language": "sql",
                "azdata_cell_guid": "979cd804-17f5-4462-a847-de6c7c71b043"
            },
            "attachments": {}
        },
        {
            "cell_type": "markdown",
            "source": [
                "## <span style=\"color: var(--vscode-foreground);\">2. Does the membership depend on customer rating?</span>"
            ],
            "metadata": {
                "language": "sql",
                "azdata_cell_guid": "16b91bda-9412-4450-9d05-bfd3cf9b57b6"
            },
            "attachments": {}
        },
        {
            "cell_type": "code",
            "source": [
                "-- Group customers based on their ratings.\r\n",
                "-- Analyze the distribution of loyalty program membership within each rating group.\r\n",
                "-- Conduct statistical tests (e.g., Chi-square test) to determine if there's a significant association between customer rating and loyalty program membership.\r\n",
                "\r\n",
                "SELECT rating,\r\n",
                "    COUNT(CASE WHEN Customer_type = 'Member' THEN 1 END) AS Loyalty_Member,\r\n",
                "    COUNT(*) AS Total_Customers,\r\n",
                "    (COUNT(CASE WHEN Customer_type = 'Member' THEN 1 END) * 100.0 / COUNT(*)) AS Loyalty_Percentage\r\n",
                "FROM [Projects].[dbo].[SupermarketSales]\r\n",
                "GROUP BY rating\r\n",
                "ORDER BY rating DESC;\r\n",
                ""
            ],
            "metadata": {
                "language": "sql",
                "azdata_cell_guid": "5b57073f-dba3-47a7-8ad4-0f341c03594d",
                "tags": []
            },
            "outputs": [
                {
                    "output_type": "display_data",
                    "data": {
                        "text/html": "Warning: Null value is eliminated by an aggregate or other SET operation."
                    },
                    "metadata": {}
                },
                {
                    "output_type": "display_data",
                    "data": {
                        "text/html": "(61 rows affected)"
                    },
                    "metadata": {}
                },
                {
                    "output_type": "display_data",
                    "data": {
                        "text/html": "Total execution time: 00:00:00.018"
                    },
                    "metadata": {}
                },
                {
                    "output_type": "execute_result",
                    "execution_count": 19,
                    "data": {
                        "application/vnd.dataresource+json": {
                            "schema": {
                                "fields": [
                                    {
                                        "name": "rating"
                                    },
                                    {
                                        "name": "Loyalty_Member"
                                    },
                                    {
                                        "name": "Total_Customers"
                                    },
                                    {
                                        "name": "Loyalty_Percentage"
                                    }
                                ]
                            },
                            "data": [
                                {
                                    "rating": "10",
                                    "Loyalty_Member": "2",
                                    "Total_Customers": "5",
                                    "Loyalty_Percentage": "40.000000000000"
                                },
                                {
                                    "rating": "9.899999618530273",
                                    "Loyalty_Member": "7",
                                    "Total_Customers": "16",
                                    "Loyalty_Percentage": "43.750000000000"
                                },
                                {
                                    "rating": "9.800000190734863",
                                    "Loyalty_Member": "11",
                                    "Total_Customers": "19",
                                    "Loyalty_Percentage": "57.894736842105"
                                },
                                {
                                    "rating": "9.699999809265137",
                                    "Loyalty_Member": "8",
                                    "Total_Customers": "14",
                                    "Loyalty_Percentage": "57.142857142857"
                                },
                                {
                                    "rating": "9.600000381469727",
                                    "Loyalty_Member": "7",
                                    "Total_Customers": "17",
                                    "Loyalty_Percentage": "41.176470588235"
                                },
                                {
                                    "rating": "9.5",
                                    "Loyalty_Member": "14",
                                    "Total_Customers": "22",
                                    "Loyalty_Percentage": "63.636363636363"
                                },
                                {
                                    "rating": "9.399999618530273",
                                    "Loyalty_Member": "6",
                                    "Total_Customers": "12",
                                    "Loyalty_Percentage": "50.000000000000"
                                },
                                {
                                    "rating": "9.300000190734863",
                                    "Loyalty_Member": "5",
                                    "Total_Customers": "16",
                                    "Loyalty_Percentage": "31.250000000000"
                                },
                                {
                                    "rating": "9.199999809265137",
                                    "Loyalty_Member": "6",
                                    "Total_Customers": "16",
                                    "Loyalty_Percentage": "37.500000000000"
                                },
                                {
                                    "rating": "9.100000381469727",
                                    "Loyalty_Member": "8",
                                    "Total_Customers": "14",
                                    "Loyalty_Percentage": "57.142857142857"
                                },
                                {
                                    "rating": "9",
                                    "Loyalty_Member": "6",
                                    "Total_Customers": "15",
                                    "Loyalty_Percentage": "40.000000000000"
                                },
                                {
                                    "rating": "8.899999618530273",
                                    "Loyalty_Member": "9",
                                    "Total_Customers": "16",
                                    "Loyalty_Percentage": "56.250000000000"
                                },
                                {
                                    "rating": "8.800000190734863",
                                    "Loyalty_Member": "8",
                                    "Total_Customers": "14",
                                    "Loyalty_Percentage": "57.142857142857"
                                },
                                {
                                    "rating": "8.699999809265137",
                                    "Loyalty_Member": "10",
                                    "Total_Customers": "20",
                                    "Loyalty_Percentage": "50.000000000000"
                                },
                                {
                                    "rating": "8.600000381469727",
                                    "Loyalty_Member": "9",
                                    "Total_Customers": "18",
                                    "Loyalty_Percentage": "50.000000000000"
                                },
                                {
                                    "rating": "8.5",
                                    "Loyalty_Member": "12",
                                    "Total_Customers": "18",
                                    "Loyalty_Percentage": "66.666666666666"
                                },
                                {
                                    "rating": "8.399999618530273",
                                    "Loyalty_Member": "11",
                                    "Total_Customers": "18",
                                    "Loyalty_Percentage": "61.111111111111"
                                },
                                {
                                    "rating": "8.300000190734863",
                                    "Loyalty_Member": "5",
                                    "Total_Customers": "11",
                                    "Loyalty_Percentage": "45.454545454545"
                                },
                                {
                                    "rating": "8.199999809265137",
                                    "Loyalty_Member": "5",
                                    "Total_Customers": "14",
                                    "Loyalty_Percentage": "35.714285714285"
                                },
                                {
                                    "rating": "8.100000381469727",
                                    "Loyalty_Member": "8",
                                    "Total_Customers": "13",
                                    "Loyalty_Percentage": "61.538461538461"
                                },
                                {
                                    "rating": "8",
                                    "Loyalty_Member": "11",
                                    "Total_Customers": "21",
                                    "Loyalty_Percentage": "52.380952380952"
                                },
                                {
                                    "rating": "7.900000095367432",
                                    "Loyalty_Member": "7",
                                    "Total_Customers": "18",
                                    "Loyalty_Percentage": "38.888888888888"
                                },
                                {
                                    "rating": "7.800000190734863",
                                    "Loyalty_Member": "8",
                                    "Total_Customers": "15",
                                    "Loyalty_Percentage": "53.333333333333"
                                },
                                {
                                    "rating": "7.699999809265137",
                                    "Loyalty_Member": "8",
                                    "Total_Customers": "18",
                                    "Loyalty_Percentage": "44.444444444444"
                                },
                                {
                                    "rating": "7.599999904632568",
                                    "Loyalty_Member": "9",
                                    "Total_Customers": "20",
                                    "Loyalty_Percentage": "45.000000000000"
                                },
                                {
                                    "rating": "7.5",
                                    "Loyalty_Member": "8",
                                    "Total_Customers": "13",
                                    "Loyalty_Percentage": "61.538461538461"
                                },
                                {
                                    "rating": "7.400000095367432",
                                    "Loyalty_Member": "5",
                                    "Total_Customers": "16",
                                    "Loyalty_Percentage": "31.250000000000"
                                },
                                {
                                    "rating": "7.300000190734863",
                                    "Loyalty_Member": "12",
                                    "Total_Customers": "18",
                                    "Loyalty_Percentage": "66.666666666666"
                                },
                                {
                                    "rating": "7.199999809265137",
                                    "Loyalty_Member": "6",
                                    "Total_Customers": "18",
                                    "Loyalty_Percentage": "33.333333333333"
                                },
                                {
                                    "rating": "7.099999904632568",
                                    "Loyalty_Member": "7",
                                    "Total_Customers": "16",
                                    "Loyalty_Percentage": "43.750000000000"
                                },
                                {
                                    "rating": "7",
                                    "Loyalty_Member": "13",
                                    "Total_Customers": "20",
                                    "Loyalty_Percentage": "65.000000000000"
                                },
                                {
                                    "rating": "6.900000095367432",
                                    "Loyalty_Member": "7",
                                    "Total_Customers": "15",
                                    "Loyalty_Percentage": "46.666666666666"
                                },
                                {
                                    "rating": "6.800000190734863",
                                    "Loyalty_Member": "6",
                                    "Total_Customers": "13",
                                    "Loyalty_Percentage": "46.153846153846"
                                },
                                {
                                    "rating": "6.699999809265137",
                                    "Loyalty_Member": "9",
                                    "Total_Customers": "19",
                                    "Loyalty_Percentage": "47.368421052631"
                                },
                                {
                                    "rating": "6.599999904632568",
                                    "Loyalty_Member": "14",
                                    "Total_Customers": "24",
                                    "Loyalty_Percentage": "58.333333333333"
                                },
                                {
                                    "rating": "6.5",
                                    "Loyalty_Member": "10",
                                    "Total_Customers": "21",
                                    "Loyalty_Percentage": "47.619047619047"
                                },
                                {
                                    "rating": "6.400000095367432",
                                    "Loyalty_Member": "6",
                                    "Total_Customers": "16",
                                    "Loyalty_Percentage": "37.500000000000"
                                },
                                {
                                    "rating": "6.300000190734863",
                                    "Loyalty_Member": "5",
                                    "Total_Customers": "15",
                                    "Loyalty_Percentage": "33.333333333333"
                                },
                                {
                                    "rating": "6.199999809265137",
                                    "Loyalty_Member": "6",
                                    "Total_Customers": "21",
                                    "Loyalty_Percentage": "28.571428571428"
                                },
                                {
                                    "rating": "6.099999904632568",
                                    "Loyalty_Member": "7",
                                    "Total_Customers": "14",
                                    "Loyalty_Percentage": "50.000000000000"
                                },
                                {
                                    "rating": "6",
                                    "Loyalty_Member": "12",
                                    "Total_Customers": "26",
                                    "Loyalty_Percentage": "46.153846153846"
                                },
                                {
                                    "rating": "5.900000095367432",
                                    "Loyalty_Member": "9",
                                    "Total_Customers": "17",
                                    "Loyalty_Percentage": "52.941176470588"
                                },
                                {
                                    "rating": "5.800000190734863",
                                    "Loyalty_Member": "7",
                                    "Total_Customers": "14",
                                    "Loyalty_Percentage": "50.000000000000"
                                },
                                {
                                    "rating": "5.699999809265137",
                                    "Loyalty_Member": "6",
                                    "Total_Customers": "14",
                                    "Loyalty_Percentage": "42.857142857142"
                                },
                                {
                                    "rating": "5.599999904632568",
                                    "Loyalty_Member": "11",
                                    "Total_Customers": "16",
                                    "Loyalty_Percentage": "68.750000000000"
                                },
                                {
                                    "rating": "5.5",
                                    "Loyalty_Member": "8",
                                    "Total_Customers": "19",
                                    "Loyalty_Percentage": "42.105263157894"
                                },
                                {
                                    "rating": "5.400000095367432",
                                    "Loyalty_Member": "8",
                                    "Total_Customers": "14",
                                    "Loyalty_Percentage": "57.142857142857"
                                },
                                {
                                    "rating": "5.300000190734863",
                                    "Loyalty_Member": "6",
                                    "Total_Customers": "11",
                                    "Loyalty_Percentage": "54.545454545454"
                                },
                                {
                                    "rating": "5.199999809265137",
                                    "Loyalty_Member": "7",
                                    "Total_Customers": "15",
                                    "Loyalty_Percentage": "46.666666666666"
                                },
                                {
                                    "rating": "5.099999904632568",
                                    "Loyalty_Member": "8",
                                    "Total_Customers": "21",
                                    "Loyalty_Percentage": "38.095238095238"
                                },
                                {
                                    "rating": "5",
                                    "Loyalty_Member": "13",
                                    "Total_Customers": "21",
                                    "Loyalty_Percentage": "61.904761904761"
                                },
                                {
                                    "rating": "4.900000095367432",
                                    "Loyalty_Member": "10",
                                    "Total_Customers": "18",
                                    "Loyalty_Percentage": "55.555555555555"
                                },
                                {
                                    "rating": "4.800000190734863",
                                    "Loyalty_Member": "6",
                                    "Total_Customers": "13",
                                    "Loyalty_Percentage": "46.153846153846"
                                },
                                {
                                    "rating": "4.699999809265137",
                                    "Loyalty_Member": "8",
                                    "Total_Customers": "12",
                                    "Loyalty_Percentage": "66.666666666666"
                                },
                                {
                                    "rating": "4.599999904632568",
                                    "Loyalty_Member": "6",
                                    "Total_Customers": "8",
                                    "Loyalty_Percentage": "75.000000000000"
                                },
                                {
                                    "rating": "4.5",
                                    "Loyalty_Member": "10",
                                    "Total_Customers": "17",
                                    "Loyalty_Percentage": "58.823529411764"
                                },
                                {
                                    "rating": "4.400000095367432",
                                    "Loyalty_Member": "7",
                                    "Total_Customers": "17",
                                    "Loyalty_Percentage": "41.176470588235"
                                },
                                {
                                    "rating": "4.300000190734863",
                                    "Loyalty_Member": "11",
                                    "Total_Customers": "18",
                                    "Loyalty_Percentage": "61.111111111111"
                                },
                                {
                                    "rating": "4.199999809265137",
                                    "Loyalty_Member": "11",
                                    "Total_Customers": "22",
                                    "Loyalty_Percentage": "50.000000000000"
                                },
                                {
                                    "rating": "4.099999904632568",
                                    "Loyalty_Member": "9",
                                    "Total_Customers": "17",
                                    "Loyalty_Percentage": "52.941176470588"
                                },
                                {
                                    "rating": "4",
                                    "Loyalty_Member": "7",
                                    "Total_Customers": "11",
                                    "Loyalty_Percentage": "63.636363636363"
                                }
                            ]
                        },
                        "text/html": "<table><tr><th>rating</th><th>Loyalty_Member</th><th>Total_Customers</th><th>Loyalty_Percentage</th></tr><tr><td>10</td><td>2</td><td>5</td><td>40.000000000000</td></tr><tr><td>9.899999618530273</td><td>7</td><td>16</td><td>43.750000000000</td></tr><tr><td>9.800000190734863</td><td>11</td><td>19</td><td>57.894736842105</td></tr><tr><td>9.699999809265137</td><td>8</td><td>14</td><td>57.142857142857</td></tr><tr><td>9.600000381469727</td><td>7</td><td>17</td><td>41.176470588235</td></tr><tr><td>9.5</td><td>14</td><td>22</td><td>63.636363636363</td></tr><tr><td>9.399999618530273</td><td>6</td><td>12</td><td>50.000000000000</td></tr><tr><td>9.300000190734863</td><td>5</td><td>16</td><td>31.250000000000</td></tr><tr><td>9.199999809265137</td><td>6</td><td>16</td><td>37.500000000000</td></tr><tr><td>9.100000381469727</td><td>8</td><td>14</td><td>57.142857142857</td></tr><tr><td>9</td><td>6</td><td>15</td><td>40.000000000000</td></tr><tr><td>8.899999618530273</td><td>9</td><td>16</td><td>56.250000000000</td></tr><tr><td>8.800000190734863</td><td>8</td><td>14</td><td>57.142857142857</td></tr><tr><td>8.699999809265137</td><td>10</td><td>20</td><td>50.000000000000</td></tr><tr><td>8.600000381469727</td><td>9</td><td>18</td><td>50.000000000000</td></tr><tr><td>8.5</td><td>12</td><td>18</td><td>66.666666666666</td></tr><tr><td>8.399999618530273</td><td>11</td><td>18</td><td>61.111111111111</td></tr><tr><td>8.300000190734863</td><td>5</td><td>11</td><td>45.454545454545</td></tr><tr><td>8.199999809265137</td><td>5</td><td>14</td><td>35.714285714285</td></tr><tr><td>8.100000381469727</td><td>8</td><td>13</td><td>61.538461538461</td></tr><tr><td>8</td><td>11</td><td>21</td><td>52.380952380952</td></tr><tr><td>7.900000095367432</td><td>7</td><td>18</td><td>38.888888888888</td></tr><tr><td>7.800000190734863</td><td>8</td><td>15</td><td>53.333333333333</td></tr><tr><td>7.699999809265137</td><td>8</td><td>18</td><td>44.444444444444</td></tr><tr><td>7.599999904632568</td><td>9</td><td>20</td><td>45.000000000000</td></tr><tr><td>7.5</td><td>8</td><td>13</td><td>61.538461538461</td></tr><tr><td>7.400000095367432</td><td>5</td><td>16</td><td>31.250000000000</td></tr><tr><td>7.300000190734863</td><td>12</td><td>18</td><td>66.666666666666</td></tr><tr><td>7.199999809265137</td><td>6</td><td>18</td><td>33.333333333333</td></tr><tr><td>7.099999904632568</td><td>7</td><td>16</td><td>43.750000000000</td></tr><tr><td>7</td><td>13</td><td>20</td><td>65.000000000000</td></tr><tr><td>6.900000095367432</td><td>7</td><td>15</td><td>46.666666666666</td></tr><tr><td>6.800000190734863</td><td>6</td><td>13</td><td>46.153846153846</td></tr><tr><td>6.699999809265137</td><td>9</td><td>19</td><td>47.368421052631</td></tr><tr><td>6.599999904632568</td><td>14</td><td>24</td><td>58.333333333333</td></tr><tr><td>6.5</td><td>10</td><td>21</td><td>47.619047619047</td></tr><tr><td>6.400000095367432</td><td>6</td><td>16</td><td>37.500000000000</td></tr><tr><td>6.300000190734863</td><td>5</td><td>15</td><td>33.333333333333</td></tr><tr><td>6.199999809265137</td><td>6</td><td>21</td><td>28.571428571428</td></tr><tr><td>6.099999904632568</td><td>7</td><td>14</td><td>50.000000000000</td></tr><tr><td>6</td><td>12</td><td>26</td><td>46.153846153846</td></tr><tr><td>5.900000095367432</td><td>9</td><td>17</td><td>52.941176470588</td></tr><tr><td>5.800000190734863</td><td>7</td><td>14</td><td>50.000000000000</td></tr><tr><td>5.699999809265137</td><td>6</td><td>14</td><td>42.857142857142</td></tr><tr><td>5.599999904632568</td><td>11</td><td>16</td><td>68.750000000000</td></tr><tr><td>5.5</td><td>8</td><td>19</td><td>42.105263157894</td></tr><tr><td>5.400000095367432</td><td>8</td><td>14</td><td>57.142857142857</td></tr><tr><td>5.300000190734863</td><td>6</td><td>11</td><td>54.545454545454</td></tr><tr><td>5.199999809265137</td><td>7</td><td>15</td><td>46.666666666666</td></tr><tr><td>5.099999904632568</td><td>8</td><td>21</td><td>38.095238095238</td></tr><tr><td>5</td><td>13</td><td>21</td><td>61.904761904761</td></tr><tr><td>4.900000095367432</td><td>10</td><td>18</td><td>55.555555555555</td></tr><tr><td>4.800000190734863</td><td>6</td><td>13</td><td>46.153846153846</td></tr><tr><td>4.699999809265137</td><td>8</td><td>12</td><td>66.666666666666</td></tr><tr><td>4.599999904632568</td><td>6</td><td>8</td><td>75.000000000000</td></tr><tr><td>4.5</td><td>10</td><td>17</td><td>58.823529411764</td></tr><tr><td>4.400000095367432</td><td>7</td><td>17</td><td>41.176470588235</td></tr><tr><td>4.300000190734863</td><td>11</td><td>18</td><td>61.111111111111</td></tr><tr><td>4.199999809265137</td><td>11</td><td>22</td><td>50.000000000000</td></tr><tr><td>4.099999904632568</td><td>9</td><td>17</td><td>52.941176470588</td></tr><tr><td>4</td><td>7</td><td>11</td><td>63.636363636363</td></tr></table>"
                    },
                    "metadata": {}
                }
            ],
            "execution_count": 19
        },
        {
            "cell_type": "markdown",
            "source": [
                "No it does not"
            ],
            "metadata": {
                "language": "sql",
                "azdata_cell_guid": "53128e8f-bc35-4144-a5ab-a1c511f3d646"
            },
            "attachments": {}
        },
        {
            "cell_type": "markdown",
            "source": [
                "## <span style=\"color: var(--vscode-foreground);\">3. Does gross income depend on the proportion of customers in the loyalty program? On payment method?</span>"
            ],
            "metadata": {
                "language": "sql",
                "azdata_cell_guid": "7c73eb89-6ed0-41f8-a030-4dbc34f51959"
            },
            "attachments": {}
        },
        {
            "cell_type": "code",
            "source": [
                "-- Gross income vs Loyalty Program\r\n",
                "SELECT Branch,\r\n",
                "       AVG(gross_income) AS Average_Gross_Income,\r\n",
                "       AVG(CASE WHEN Customer_type = 'Member' THEN gross_income END) AS Loyalty_Member_Gross_Income,\r\n",
                "       AVG(CASE WHEN Customer_type = 'Normal' THEN gross_income END) AS Normal_Customer_Gross_Income\r\n",
                "FROM [Projects].[dbo].[SupermarketSales]\r\n",
                "GROUP BY Branch;\r\n",
                "\r\n",
                "-- Gross income by Payment Method\r\n",
                "SELECT Payment,\r\n",
                "       AVG(gross_income) AS Average_Gross_Income\r\n",
                "FROM [Projects].[dbo].[SupermarketSales]\r\n",
                "GROUP BY Payment;"
            ],
            "metadata": {
                "language": "sql",
                "azdata_cell_guid": "e03694aa-60bd-4f97-829e-35f3292c10b9"
            },
            "outputs": [
                {
                    "output_type": "display_data",
                    "data": {
                        "text/html": "Warning: Null value is eliminated by an aggregate or other SET operation."
                    },
                    "metadata": {}
                },
                {
                    "output_type": "display_data",
                    "data": {
                        "text/html": "(3 rows affected)"
                    },
                    "metadata": {}
                },
                {
                    "output_type": "display_data",
                    "data": {
                        "text/html": "(3 rows affected)"
                    },
                    "metadata": {}
                },
                {
                    "output_type": "display_data",
                    "data": {
                        "text/html": "Total execution time: 00:00:00.023"
                    },
                    "metadata": {}
                },
                {
                    "output_type": "execute_result",
                    "execution_count": 16,
                    "data": {
                        "application/vnd.dataresource+json": {
                            "schema": {
                                "fields": [
                                    {
                                        "name": "Branch"
                                    },
                                    {
                                        "name": "Average_Gross_Income"
                                    },
                                    {
                                        "name": "Loyalty_Member_Gross_Income"
                                    },
                                    {
                                        "name": "Normal_Customer_Gross_Income"
                                    }
                                ]
                            },
                            "data": [
                                {
                                    "Branch": "A",
                                    "Average_Gross_Income": "14.874001480726635",
                                    "Loyalty_Member_Gross_Income": "15.29440420116493",
                                    "Normal_Customer_Gross_Income": "14.46817920145961"
                                },
                                {
                                    "Branch": "C",
                                    "Average_Gross_Income": "16.052367318512463",
                                    "Loyalty_Member_Gross_Income": "16.027411171670497",
                                    "Normal_Customer_Gross_Income": "16.0788930343382"
                                },
                                {
                                    "Branch": "B",
                                    "Average_Gross_Income": "15.232024135898394",
                                    "Loyalty_Member_Gross_Income": "15.49918791814284",
                                    "Normal_Customer_Gross_Income": "14.968059919908375"
                                }
                            ]
                        },
                        "text/html": "<table><tr><th>Branch</th><th>Average_Gross_Income</th><th>Loyalty_Member_Gross_Income</th><th>Normal_Customer_Gross_Income</th></tr><tr><td>A</td><td>14.874001480726635</td><td>15.29440420116493</td><td>14.46817920145961</td></tr><tr><td>C</td><td>16.052367318512463</td><td>16.027411171670497</td><td>16.0788930343382</td></tr><tr><td>B</td><td>15.232024135898394</td><td>15.49918791814284</td><td>14.968059919908375</td></tr></table>"
                    },
                    "metadata": {}
                },
                {
                    "output_type": "execute_result",
                    "execution_count": 16,
                    "data": {
                        "application/vnd.dataresource+json": {
                            "schema": {
                                "fields": [
                                    {
                                        "name": "Payment"
                                    },
                                    {
                                        "name": "Average_Gross_Income"
                                    }
                                ]
                            },
                            "data": [
                                {
                                    "Payment": "Ewallet",
                                    "Average_Gross_Income": "15.18193332095077"
                                },
                                {
                                    "Payment": "Cash",
                                    "Average_Gross_Income": "15.532470901691637"
                                },
                                {
                                    "Payment": "Credit card",
                                    "Average_Gross_Income": "15.429041836422739"
                                }
                            ]
                        },
                        "text/html": "<table><tr><th>Payment</th><th>Average_Gross_Income</th></tr><tr><td>Ewallet</td><td>15.18193332095077</td></tr><tr><td>Cash</td><td>15.532470901691637</td></tr><tr><td>Credit card</td><td>15.429041836422739</td></tr></table>"
                    },
                    "metadata": {}
                }
            ],
            "execution_count": 16
        },
        {
            "cell_type": "markdown",
            "source": [
                "## <span style=\"color: var(--vscode-foreground);\">4. Are there any differences in indicators between men and women?</span>"
            ],
            "metadata": {
                "language": "sql",
                "azdata_cell_guid": "d414760d-821e-4aef-8d9f-fb7638743524"
            },
            "attachments": {}
        },
        {
            "cell_type": "code",
            "source": [
                "-- Compare various indicators (loyalty program participation, payment methods, customer ratings, etc.) between men and women.\r\n",
                "\r\n",
                "SELECT Gender,\r\n",
                "       COUNT(CASE WHEN Customer_type = 'Member' THEN 1 END) AS Loyalty_Members,\r\n",
                "       COUNT(*) AS Total_Customers,\r\n",
                "       (COUNT(CASE WHEN Customer_type = 'Member' THEN 1 END) * 100.0 / COUNT(*)) AS Loyalty_Percentage\r\n",
                "FROM [Projects].[dbo].[SupermarketSales]\r\n",
                "GROUP BY Gender;"
            ],
            "metadata": {
                "language": "sql",
                "azdata_cell_guid": "77bba473-64ff-4726-981e-bf7041d4096f"
            },
            "outputs": [
                {
                    "output_type": "display_data",
                    "data": {
                        "text/html": "Warning: Null value is eliminated by an aggregate or other SET operation."
                    },
                    "metadata": {}
                },
                {
                    "output_type": "display_data",
                    "data": {
                        "text/html": "(2 rows affected)"
                    },
                    "metadata": {}
                },
                {
                    "output_type": "display_data",
                    "data": {
                        "text/html": "Total execution time: 00:00:00.014"
                    },
                    "metadata": {}
                },
                {
                    "output_type": "execute_result",
                    "execution_count": 17,
                    "data": {
                        "application/vnd.dataresource+json": {
                            "schema": {
                                "fields": [
                                    {
                                        "name": "Gender"
                                    },
                                    {
                                        "name": "Loyalty_Members"
                                    },
                                    {
                                        "name": "Total_Customers"
                                    },
                                    {
                                        "name": "Loyalty_Percentage"
                                    }
                                ]
                            },
                            "data": [
                                {
                                    "Gender": "Male",
                                    "Loyalty_Members": "240",
                                    "Total_Customers": "499",
                                    "Loyalty_Percentage": "48.096192384769"
                                },
                                {
                                    "Gender": "Female",
                                    "Loyalty_Members": "261",
                                    "Total_Customers": "501",
                                    "Loyalty_Percentage": "52.095808383233"
                                }
                            ]
                        },
                        "text/html": "<table><tr><th>Gender</th><th>Loyalty_Members</th><th>Total_Customers</th><th>Loyalty_Percentage</th></tr><tr><td>Male</td><td>240</td><td>499</td><td>48.096192384769</td></tr><tr><td>Female</td><td>261</td><td>501</td><td>52.095808383233</td></tr></table>"
                    },
                    "metadata": {}
                }
            ],
            "execution_count": 17
        },
        {
            "cell_type": "markdown",
            "source": [
                "Answer: Women have a higher loyalty percentage than men, but they are nearly equal in the number of total customers."
            ],
            "metadata": {
                "language": "sql",
                "azdata_cell_guid": "28589e14-4aea-4909-bbc6-6ed808d9a67e"
            },
            "attachments": {}
        },
        {
            "cell_type": "markdown",
            "source": [
                "## <span style=\"color: var(--vscode-foreground);\">5. Which product category generates the highest income?</span>"
            ],
            "metadata": {
                "language": "sql",
                "azdata_cell_guid": "846e544d-a4f9-49d2-b016-01515ad05385"
            },
            "attachments": {}
        },
        {
            "cell_type": "code",
            "source": [
                "-- Analyze sales data for each product category.\r\n",
                "-- Calculate the total income generated by each category.\r\n",
                "-- Identify the product category with the highest income.\r\n",
                "\r\n",
                "SELECT Product_line,\r\n",
                "       SUM(gross_income) AS Total_Gross_Income\r\n",
                "FROM [Projects].[dbo].[SupermarketSales]\r\n",
                "GROUP BY Product_line\r\n",
                "ORDER BY Total_Gross_Income DESC;"
            ],
            "metadata": {
                "language": "sql",
                "azdata_cell_guid": "8365c6fe-cb93-404b-84fa-cbb811eb415f"
            },
            "outputs": [
                {
                    "output_type": "display_data",
                    "data": {
                        "text/html": "(6 rows affected)"
                    },
                    "metadata": {}
                },
                {
                    "output_type": "display_data",
                    "data": {
                        "text/html": "Total execution time: 00:00:00.015"
                    },
                    "metadata": {}
                },
                {
                    "output_type": "execute_result",
                    "execution_count": 18,
                    "data": {
                        "application/vnd.dataresource+json": {
                            "schema": {
                                "fields": [
                                    {
                                        "name": "Product_line"
                                    },
                                    {
                                        "name": "Total_Gross_Income"
                                    }
                                ]
                            },
                            "data": [
                                {
                                    "Product_line": "Food and beverages",
                                    "Total_Gross_Income": "2673.563990712166"
                                },
                                {
                                    "Product_line": "Sports and travel",
                                    "Total_Gross_Income": "2624.896505653858"
                                },
                                {
                                    "Product_line": "Electronic accessories",
                                    "Total_Gross_Income": "2587.5014988183975"
                                },
                                {
                                    "Product_line": "Fashion accessories",
                                    "Total_Gross_Income": "2585.995001554489"
                                },
                                {
                                    "Product_line": "Home and lifestyle",
                                    "Total_Gross_Income": "2564.8529980778694"
                                },
                                {
                                    "Product_line": "Health and beauty",
                                    "Total_Gross_Income": "2342.5590022206306"
                                }
                            ]
                        },
                        "text/html": "<table><tr><th>Product_line</th><th>Total_Gross_Income</th></tr><tr><td>Food and beverages</td><td>2673.563990712166</td></tr><tr><td>Sports and travel</td><td>2624.896505653858</td></tr><tr><td>Electronic accessories</td><td>2587.5014988183975</td></tr><tr><td>Fashion accessories</td><td>2585.995001554489</td></tr><tr><td>Home and lifestyle</td><td>2564.8529980778694</td></tr><tr><td>Health and beauty</td><td>2342.5590022206306</td></tr></table>"
                    },
                    "metadata": {}
                }
            ],
            "execution_count": 18
        }
    ]
}